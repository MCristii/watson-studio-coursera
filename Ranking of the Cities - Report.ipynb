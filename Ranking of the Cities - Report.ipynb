{
 "cells": [
  {
   "cell_type": "markdown",
   "metadata": {},
   "source": [
    "# Introduction "
   ]
  },
  {
   "cell_type": "markdown",
   "metadata": {},
   "source": [
    "## Background"
   ]
  },
  {
   "cell_type": "markdown",
   "metadata": {},
   "source": [
    "City breaks are becoming more popular everyday and, with it, so do big cities. Nowadays, traveling is becoming an addiction. If you live in a big city, than you see more and more tourists. Traveling is a passion and also a curiosity for many people, because they want to discover either traditions, different lifestyles, new places, new environments and especially new horizons. "
   ]
  },
  {
   "cell_type": "markdown",
   "metadata": {},
   "source": [
    "## Problem"
   ]
  },
  {
   "cell_type": "markdown",
   "metadata": {},
   "source": [
    "Before any traveling, a research must be done. Depending on people, money can be a problem, so they investigate cheaper flights and cheaper stays. Based on that and their income, they choose a city to visit, but it takes a long time to find a desirable place. Travel guides often include a brief description about every city, including prices, places to visit, restaurants to eat and many more. But, what they don't include is a city ranking. A short briefing about every popular city depending on what you want to visit. "
   ]
  },
  {
   "cell_type": "markdown",
   "metadata": {},
   "source": [
    "## Interest"
   ]
  },
  {
   "cell_type": "markdown",
   "metadata": {},
   "source": [
    "As a traveler, I want to know where to plan my next trip and do it without having to research from 5 to 15 cities, thing that takes a lot of time. As a filter for this problem, a ranking of the cities can be done so travelers can ease their research to even a third. In this ranking will be included the global score of the city, the score of touring (tourism), relaxation, sociability and sportiveness. Every tourist wants to know if the next city break that they will make will have everything they need and they want to know that broadly speaking, not doing so much research to begin with.       "
   ]
  },
  {
   "cell_type": "markdown",
   "metadata": {},
   "source": [
    "# Data used"
   ]
  },
  {
   "cell_type": "markdown",
   "metadata": {},
   "source": [
    "The data that will be used is from Foursquare API. By getting the venues related to Tourism, for example: Hotels, Motels, Monuments, Museums, Airports, it's possible to know how well much you are going to enjoy your city break in that city, having lots of places to visit and a lot of options for Hotels and more. After counting all the places that are related to Tourism from all the cities that get in this ranking system, then a score is computed for every city, by normalizing the numbers from the maximum to the minimum. Same goes for the other scores. A global score will have the same principle, but will be formed by the scores from tourism, relaxation, sociability and sportiveness (with their corresponding weights as well). 0.4 for Tourism, 0.2 for Sociability, 0.3 for Relaxation and 0.1 for Sportiveness. These numbers are chosen so that the global score reflects more about wanting to travel to that city than how good that city performs for their citizen. That's why the population factor wasn't taken into consideration. The data gathered is taken from the center of every the city in a range of 20 kilometers. This way, even the biggest cities are covered. Only 20 cities were covered in this ranking, because Foursquare API has limited calls. Limitations occurred even at requesting venues. That's why multiple top cities have the same number of places, thus the same ranking."
   ]
  },
  {
   "cell_type": "markdown",
   "metadata": {},
   "source": [
    "# Exploratory Data Analysis"
   ]
  },
  {
   "cell_type": "markdown",
   "metadata": {},
   "source": [
    "Data resulted from this analysis is strictly for ranking big cities that travelers will need to discover new cities to spend their vacations. The most important score for every traveler is a Tourism score. That's why is weighted the greatest as against to the other 3 scores, with 0.4. All the weights cumulated make 1. We can see from the table below that New York is the greatest city for traveling, followed by Istanbul and London on the second place. In the Tourism category, places like Hotels, Motels, Airports, Museums, Monuments and Arts were taking into consideration."
   ]
  },
  {
   "cell_type": "markdown",
   "metadata": {},
   "source": [
    "<img src=\"t.png\">"
   ]
  },
  {
   "cell_type": "markdown",
   "metadata": {},
   "source": [
    "For the Sociability category, we have again New York at the top place, but this time, together with Barcelona and London. New York City is the biggest from all of the cities taken into consideration in this ranking and that's why it's always in the top. I wanted to compare a top city with one that is the opposite of visiting, Kabul, the capital of Afghanistan, to demonstrate that the ranking is true. In Sociability category, places like Bars, Restaurants, Coffee Bars, Cocktail Bars, Clubs, Discos, Pubs, Lounges and Fast-Foods were searched for to establish valid ranking for the most interactive City."
   ]
  },
  {
   "cell_type": "markdown",
   "metadata": {},
   "source": [
    "<img src=\"so.png\">"
   ]
  },
  {
   "cell_type": "markdown",
   "metadata": {},
   "source": [
    "Parks, Beaches, Spas are falling into the category of Relaxing places. Central Park is a 341 hectares big Park in New York City that receives around 42 million visitors annually and stays open all year. By being limited by the calls of the Foursquare API, only 200 relaxing places were found in every city. Relaxing category is weighted with 0.3, second highest. That's because travelers want to see the beautiful beaches of Athena or the big Central Park from New York City. "
   ]
  },
  {
   "cell_type": "markdown",
   "metadata": {},
   "source": [
    "   <img src=\"r.png\">  "
   ]
  },
  {
   "cell_type": "markdown",
   "metadata": {},
   "source": [
    "With a 0.1 weight, Sportiveness is the cities category of their dedication to sports. This includes from any type of stadium to every little club of Martial Arts or Box. "
   ]
  },
  {
   "cell_type": "markdown",
   "metadata": {},
   "source": [
    " <img src=\"sp.png\">   "
   ]
  },
  {
   "cell_type": "markdown",
   "metadata": {},
   "source": [
    "To do a sum up, below you'll find barplots for every category described earlier."
   ]
  },
  {
   "cell_type": "markdown",
   "metadata": {},
   "source": [
    " <img src=\"Places_count.png\"> "
   ]
  },
  {
   "cell_type": "markdown",
   "metadata": {},
   "source": [
    "To conclude to a winner in this ranking, we needed to build a global score, that covers all four categories with their respective weights that were described. The formula is:"
   ]
  },
  {
   "cell_type": "markdown",
   "metadata": {},
   "source": [
    "Global Score = 0.4x(Tourism Score) + 0.2x(Sociability Score) + 0.3x(Relaxing Score) + 0.1x(Sportiveness Score)"
   ]
  },
  {
   "cell_type": "markdown",
   "metadata": {},
   "source": [
    "<img src=\"global_score.png\">   <img src=\"gl_sc.png\">   "
   ]
  },
  {
   "cell_type": "markdown",
   "metadata": {},
   "source": [
    "Folium was used to show all 20 cities used for this project and to show on the smallest city of them an example of the data gathered from every category."
   ]
  },
  {
   "cell_type": "markdown",
   "metadata": {},
   "source": [
    "<img src=\"folium_map.png\">   <img src=\"afghan_folium.png\">   "
   ]
  },
  {
   "cell_type": "markdown",
   "metadata": {},
   "source": [
    "In the picture from above we can see the capital of Afghanistan, Kabul. With blue are shown the touristic places, with green the relaxation places, yellow for sociability places and magenta for sportiveness places. We can see that the most 2 important categories, relaxation and tourism are falling behind to sociability and sportiveness. "
   ]
  },
  {
   "cell_type": "markdown",
   "metadata": {},
   "source": [
    "# Conclusions "
   ]
  },
  {
   "cell_type": "markdown",
   "metadata": {},
   "source": [
    "From the ranking above we can clearly see that New York City is the greatest for traveling and not just that. While, at the bottom, we have Kabul City, the capital of Afghanistan. Moscow entered in the bottom cities because it does not have a lot of touristic places, rather than a few must visit locations. We can consider this an error for our ranking taking into consideration that Sofia and Bucharest are above. There are a lot to discuss about this ranking and a lot to improve. But given the limited API, the results are quite astonishing and pretty accurate. A major upgrade to this ranking is by grouping cities after their population per square meter by using a clustering method. I believe that it will give more accurate results. In conclusion, applying the well known fact that every machine learning algorithm needs a lot of data for training to have good results, we can say that this is a small step to something bigger. "
   ]
  }
 ],
 "metadata": {
  "kernelspec": {
   "display_name": "Python",
   "language": "python",
   "name": "conda-env-python-py"
  },
  "language_info": {
   "codemirror_mode": {
    "name": "ipython",
    "version": 3
   },
   "file_extension": ".py",
   "mimetype": "text/x-python",
   "name": "python",
   "nbconvert_exporter": "python",
   "pygments_lexer": "ipython3",
   "version": "3.6.10"
  }
 },
 "nbformat": 4,
 "nbformat_minor": 4
}
