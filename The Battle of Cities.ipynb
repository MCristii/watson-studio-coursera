{
 "cells": [
  {
   "cell_type": "markdown",
   "metadata": {},
   "source": [
    "# THE BATTLE OF CITIES"
   ]
  },
  {
   "cell_type": "markdown",
   "metadata": {},
   "source": [
    "---------------"
   ]
  },
  {
   "cell_type": "markdown",
   "metadata": {},
   "source": [
    "### PART 1"
   ]
  },
  {
   "cell_type": "markdown",
   "metadata": {},
   "source": [
    "---------------"
   ]
  },
  {
   "cell_type": "markdown",
   "metadata": {},
   "source": [
    "#### 1. A description of the problem and a discussion of the background."
   ]
  },
  {
   "cell_type": "markdown",
   "metadata": {},
   "source": [
    "As a traveler, I want to know where to plan my next trip. So I decided to make a city ranking. In this ranking will be included the global score of the city, the score of touring (tourism), relaxation, sociability and sportiveness. Every tourist wants to know if the next city break that they will make will have everything they need and they want to know that broadly speaking, not doing so much research to begin with.       "
   ]
  },
  {
   "cell_type": "markdown",
   "metadata": {},
   "source": [
    "#### 2. A description of the data and how it will be used to solve the problem."
   ]
  },
  {
   "cell_type": "markdown",
   "metadata": {},
   "source": [
    "How I will be able to compute the scores? Well, all these scores are covered by data gathered from Foursquare API. I can count the number of hotels/motels, airports, museums/art galleries/monuments that are in that city in a 20km range (we want to cover even the biggest city) and compute the tourism score for that city by adding a weight to every kind of place. Same goes for the other scores. A global score will have the same principle, but will be formed by the scores from tourism, relaxation, sociability and sportiveness (with their corresponding weights as well)."
   ]
  },
  {
   "cell_type": "markdown",
   "metadata": {},
   "source": [
    "---------------"
   ]
  },
  {
   "cell_type": "markdown",
   "metadata": {},
   "source": [
    "### PART 2"
   ]
  },
  {
   "cell_type": "markdown",
   "metadata": {},
   "source": [
    "---------------"
   ]
  },
  {
   "cell_type": "code",
   "execution_count": 1,
   "metadata": {},
   "outputs": [
    {
     "name": "stdout",
     "output_type": "stream",
     "text": [
      "Libraries imported.\n"
     ]
    }
   ],
   "source": [
    "import requests # library to handle requests\n",
    "import pandas as pd # library for data analsysis\n",
    "import numpy as np # library to handle data in a vectorized manner\n",
    "import random # library for random number generation\n",
    "\n",
    "try:\n",
    "    from geopy.geocoders import Nominatim # module to convert an address into latitude and longitude values\n",
    "except:\n",
    "    !conda install -c conda-forge geopy --yes \n",
    "    from geopy.geocoders import Nominatim\n",
    "\n",
    "# libraries for displaying images\n",
    "from IPython.display import Image \n",
    "from IPython.core.display import HTML \n",
    "    \n",
    "# tranforming json file into a pandas dataframe library\n",
    "from pandas import json_normalize\n",
    "\n",
    "import seaborn as sns\n",
    "import matplotlib.pyplot as plt\n",
    "\n",
    "try:\n",
    "    import folium # plotting library\n",
    "except:\n",
    "    !conda install -c conda-forge folium=0.5.0 --yes\n",
    "    import folium # plotting library\n",
    "\n",
    "print('Libraries imported.')"
   ]
  },
  {
   "cell_type": "markdown",
   "metadata": {
    "button": false,
    "new_sheet": false,
    "run_control": {
     "read_only": false
    }
   },
   "source": [
    "### Define Foursquare Credentials and Version"
   ]
  },
  {
   "cell_type": "code",
   "execution_count": 2,
   "metadata": {
    "button": false,
    "collapsed": false,
    "jupyter": {
     "outputs_hidden": false
    },
    "new_sheet": false,
    "run_control": {
     "read_only": false
    }
   },
   "outputs": [],
   "source": [
    "CLIENT_ID = 'SYWAHOEQ43WXEABCZR5CY0RLHANPBA103R45N1Y5CDBFYCIB' # your Foursquare ID\n",
    "CLIENT_SECRET = 'GXLTQBGA3QPKBNOOR3RKGKORDNTH22RGB5BMP2BLVSFJHFOB' # your Foursquare Secret\n",
    "VERSION = '20180604'"
   ]
  },
  {
   "cell_type": "code",
   "execution_count": 3,
   "metadata": {},
   "outputs": [],
   "source": [
    "# function that extracts the category of the venue\n",
    "def get_category_type(row):\n",
    "    try:\n",
    "        categories_list = row['categories']\n",
    "    except:\n",
    "        categories_list = row['venue.categories']\n",
    "\n",
    "    if len(categories_list) == 0:\n",
    "        return None\n",
    "    else:\n",
    "        return categories_list[0]['name']"
   ]
  },
  {
   "cell_type": "code",
   "execution_count": 4,
   "metadata": {
    "button": false,
    "collapsed": false,
    "jupyter": {
     "outputs_hidden": false
    },
    "new_sheet": false,
    "run_control": {
     "read_only": false
    },
    "scrolled": true
   },
   "outputs": [],
   "source": [
    "search_queries_tourism = ['Hotel', 'Motel', 'Airport', 'Monument', 'Art', 'Museum']\n",
    "search_queries_sociability = ['Restaurant', 'Bar', 'Pub', 'Cocktail', 'Coffee', 'Club', 'Disco', 'Lounge', 'Fast-Food', 'Cafe']\n",
    "search_queries_relaxing = ['Park', 'Beach', 'Pool', 'Spa']\n",
    "search_queries_sportiveness = ['Stadium', 'Gym', 'Fitness', 'Aerobic', 'Martial Art', 'Box', 'Footbal', 'Basketball', 'Tennis', 'Baseball', 'Voleyball']\n",
    "\n",
    "search_queries = [search_queries_tourism, search_queries_sociability, search_queries_relaxing, search_queries_sportiveness]"
   ]
  },
  {
   "cell_type": "code",
   "execution_count": 7,
   "metadata": {},
   "outputs": [
    {
     "name": "stdout",
     "output_type": "stream",
     "text": [
      "Bucharest, RO --> latitude = 44.4361414, longitude = 26.1027202\n"
     ]
    },
    {
     "ename": "KeyError",
     "evalue": "'venues'",
     "output_type": "error",
     "traceback": [
      "\u001b[0;31m---------------------------------------------------------------------------\u001b[0m",
      "\u001b[0;31mKeyError\u001b[0m                                  Traceback (most recent call last)",
      "\u001b[0;32m<ipython-input-7-a9db0e484c7f>\u001b[0m in \u001b[0;36m<module>\u001b[0;34m\u001b[0m\n\u001b[1;32m     49\u001b[0m             \u001b[0;31m# Get relevant part of JSON and transform it into a *pandas* dataframe\u001b[0m\u001b[0;34m\u001b[0m\u001b[0;34m\u001b[0m\u001b[0;34m\u001b[0m\u001b[0m\n\u001b[1;32m     50\u001b[0m             \u001b[0;31m# assign relevant part of JSON to venues\u001b[0m\u001b[0;34m\u001b[0m\u001b[0;34m\u001b[0m\u001b[0;34m\u001b[0m\u001b[0m\n\u001b[0;32m---> 51\u001b[0;31m             \u001b[0mvenues\u001b[0m \u001b[0;34m=\u001b[0m \u001b[0mresults\u001b[0m\u001b[0;34m[\u001b[0m\u001b[0;34m'response'\u001b[0m\u001b[0;34m]\u001b[0m\u001b[0;34m[\u001b[0m\u001b[0;34m'venues'\u001b[0m\u001b[0;34m]\u001b[0m\u001b[0;34m\u001b[0m\u001b[0;34m\u001b[0m\u001b[0m\n\u001b[0m\u001b[1;32m     52\u001b[0m \u001b[0;34m\u001b[0m\u001b[0m\n\u001b[1;32m     53\u001b[0m             \u001b[0;31m# tranform venues into a dataframe\u001b[0m\u001b[0;34m\u001b[0m\u001b[0;34m\u001b[0m\u001b[0;34m\u001b[0m\u001b[0m\n",
      "\u001b[0;31mKeyError\u001b[0m: 'venues'"
     ]
    }
   ],
   "source": [
    "radius = 20000\n",
    "LIMIT = 100\n",
    "addresses = ['Bucharest, RO', 'Paris, FR', 'Rome, IT', 'Berlin, DE', \n",
    "             'Madrid, ES', 'Barcelona, ES', 'Tokyo, JP', 'Beijing, CN', \n",
    "             'New Delhi, IN', 'London, GB', 'New York City, NY', 'Moscow, RU', \n",
    "             'Amsterdam, NL', 'Atena, GR', 'Prague, CZ', 'Vienna, AT', \n",
    "             'Budapest, HU', 'Istanbul, TR', 'Sofia, BG', 'Kabul, AF',\n",
    "            ]\n",
    "latitude_list, longitude_list = [], []\n",
    "\n",
    "x = len(addresses)\n",
    "rankings = pd.DataFrame({\"City\":addresses,\n",
    "                         \"Tourism Places Count\":np.zeros(x), \n",
    "                         \"Tourism Score\":np.zeros(x),\n",
    "                         \"Sociability Places Count\":np.zeros(x),\n",
    "                         \"Sociability Score\":np.zeros(x),\n",
    "                         \"Relaxing Places Count\":np.zeros(x),\n",
    "                         \"Relaxing Score\":np.zeros(x),\n",
    "                         \"Sportiveness Places Count\":np.zeros(x),\n",
    "                         \"Sportiveness Score\":np.zeros(x),\n",
    "                         \"Global Score\":np.zeros(x),\n",
    "                        })\n",
    "\n",
    "for address in addresses:\n",
    "    geolocator = Nominatim(user_agent=\"foursquare_agent\")\n",
    "    location = geolocator.geocode(address)\n",
    "    latitude = location.latitude\n",
    "    latitude_list.append(latitude)\n",
    "    longitude = location.longitude\n",
    "    longitude_list.append(longitude)\n",
    "    print(f\"{address} --> latitude = {latitude}, longitude = {longitude}\")\n",
    "    \n",
    "    Tourism = pd.DataFrame()\n",
    "    Sociability = pd.DataFrame()\n",
    "    Relaxing = pd.DataFrame()\n",
    "    Sportiveness = pd.DataFrame()\n",
    "    \n",
    "    for k, search_queries_categ in enumerate(search_queries):\n",
    "        for search_query in search_queries_categ:\n",
    "\n",
    "#             print(f\"Looking for...{search_query}\")\n",
    "            \n",
    "            # Define the corresponding URL\n",
    "            url = f'https://api.foursquare.com/v2/venues/search?client_id={CLIENT_ID}&client_secret={CLIENT_SECRET}&ll={latitude},{longitude}&v={VERSION}&query={search_query}&radius={radius}&limit={LIMIT}'\n",
    "\n",
    "            # Send the GET Request and examine the results\n",
    "            results = requests.get(url).json()\n",
    "\n",
    "            # Get relevant part of JSON and transform it into a *pandas* dataframe\n",
    "            # assign relevant part of JSON to venues\n",
    "            venues = results['response']['venues']\n",
    "\n",
    "            # tranform venues into a dataframe\n",
    "            dataframe = json_normalize(venues)\n",
    "\n",
    "            # Define information of interest and filter dataframe\n",
    "            # keep only columns that include venue name, and anything that is associated with location\n",
    "            filtered_columns = ['name', 'categories'] + [col for col in dataframe.columns if col.startswith('location.')] + ['id']\n",
    "            try:\n",
    "                dataframe_filtered = dataframe.loc[:, filtered_columns]\n",
    "            except:\n",
    "                continue\n",
    "\n",
    "            # filter the category for each row\n",
    "            dataframe_filtered['categories'] = dataframe_filtered.apply(get_category_type, axis=1)\n",
    "            dataframe_filtered_1 = dataframe_filtered[dataframe_filtered['categories'] == search_query]\n",
    "            if dataframe_filtered_1.shape[0] == 0:\n",
    "                dataframe_filtered_1 = dataframe_filtered[dataframe_filtered['categories'].str.contains(search_query, na=False)]\n",
    "                if dataframe_filtered_1.shape[0] == 0:\n",
    "                    dataframe_filtered_1 = dataframe_filtered\n",
    "\n",
    "            # clean column names by keeping only last term\n",
    "            dataframe_filtered.columns = [column.split('.')[-1] for column in dataframe_filtered.columns]\n",
    "            \n",
    "            if k == 0:\n",
    "                Tourism = pd.concat([Tourism, dataframe_filtered], axis=0)\n",
    "            if k == 1:\n",
    "                Sociability = pd.concat([Sociability, dataframe_filtered], axis=0)\n",
    "            if k == 2:\n",
    "                Relaxing = pd.concat([Relaxing, dataframe_filtered], axis=0)\n",
    "            if k == 3:\n",
    "                Sportiveness = pd.concat([Sportiveness, dataframe_filtered], axis=0)\n",
    "                \n",
    "    row = rankings[rankings.City == address].index[0]\n",
    "    rankings.loc[row, 'Tourism Places Count'] = Tourism.shape[0]\n",
    "    rankings.loc[row, 'Sociability Places Count'] = Sociability.shape[0]\n",
    "    rankings.loc[row, 'Relaxing Places Count'] = Relaxing.shape[0]\n",
    "    rankings.loc[row, 'Sportiveness Places Count'] = Sportiveness.shape[0]"
   ]
  },
  {
   "cell_type": "code",
   "execution_count": 8,
   "metadata": {},
   "outputs": [
    {
     "data": {
      "text/plain": [
       "{'meta': {'code': 429,\n",
       "  'errorType': 'quota_exceeded',\n",
       "  'errorDetail': 'Quota exceeded',\n",
       "  'requestId': '5ea45ff9fb34b5001beb3b09'},\n",
       " 'response': {}}"
      ]
     },
     "execution_count": 8,
     "metadata": {},
     "output_type": "execute_result"
    }
   ],
   "source": [
    "results"
   ]
  },
  {
   "cell_type": "markdown",
   "metadata": {},
   "source": [
    "#### Compute the scores"
   ]
  },
  {
   "cell_type": "code",
   "execution_count": null,
   "metadata": {},
   "outputs": [],
   "source": [
    "for address in addresses:\n",
    "    row = rankings[rankings.City == address].index[0]\n",
    "    rankings.loc[row, 'Tourism Score'] = (rankings.loc[row, 'Tourism Places Count'] - min(rankings.loc[:, 'Tourism Places Count']))/(max(rankings.loc[:, 'Tourism Places Count']) - min(rankings.loc[:, 'Tourism Places Count']))\n",
    "    rankings.loc[row, 'Sociability Score'] = (rankings.loc[row, 'Sociability Places Count'] - min(rankings.loc[:, 'Sociability Places Count']))/(max(rankings.loc[:, 'Sociability Places Count']) - min(rankings.loc[:, 'Sociability Places Count']))\n",
    "    rankings.loc[row, 'Relaxing Score'] = (rankings.loc[row, 'Relaxing Places Count'] - min(rankings.loc[:, 'Relaxing Places Count']))/(max(rankings.loc[:, 'Relaxing Places Count']) - min(rankings.loc[:, 'Relaxing Places Count']))\n",
    "    rankings.loc[row, 'Sportiveness Score'] = (rankings.loc[row, 'Sportiveness Places Count'] - min(rankings.loc[:, 'Sportiveness Places Count']))/(max(rankings.loc[:, 'Sportiveness Places Count']) - min(rankings.loc[:, 'Sportiveness Places Count']))\n",
    "    rankings.loc[row, 'Global Score'] = rankings.loc[row, 'Tourism Score']*0.4 + rankings.loc[row, 'Sociability Score']*0.2 + rankings.loc[row, 'Relaxing Score']*0.3 + rankings.loc[row, 'Sportiveness Score']*0.1"
   ]
  },
  {
   "cell_type": "code",
   "execution_count": null,
   "metadata": {},
   "outputs": [],
   "source": [
    "rankings"
   ]
  },
  {
   "cell_type": "markdown",
   "metadata": {},
   "source": [
    "#### Plot the data"
   ]
  },
  {
   "cell_type": "code",
   "execution_count": null,
   "metadata": {},
   "outputs": [],
   "source": [
    "sns.set(style=\"ticks\", palette=\"Set1\", color_codes=True)\n",
    "f, axes = plt.subplots(2, 2, figsize=(20, 10))\n",
    "                       \n",
    "t_count = sns.barplot(y='Tourism Places Count', x='City', data=rankings, ax=axes[0,0])\n",
    "t_count.set_xticklabels(t_count.get_xticklabels(), rotation=45)\n",
    "axes[0,0].grid(axis='y', alpha=0.8)\n",
    "\n",
    "so_count = sns.barplot(y='Sociability Places Count', x='City', data=rankings, ax=axes[0,1])\n",
    "so_count.set_xticklabels(so_count.get_xticklabels(), rotation=45)\n",
    "axes[0,1].grid(axis='y', alpha=0.8)\n",
    "\n",
    "r_count = sns.barplot(y='Relaxing Places Count', x='City', data=rankings, ax=axes[1,0])\n",
    "r_count.set_xticklabels(r_count.get_xticklabels(), rotation=45)\n",
    "axes[1,0].grid(axis='y', alpha=0.8)\n",
    "\n",
    "sp_count = sns.barplot(y='Sportiveness Places Count', x='City', data=rankings, ax=axes[1,1])\n",
    "sp_count.set_xticklabels(sp_count.get_xticklabels(), rotation=45)\n",
    "axes[1,1].grid(axis='y', alpha=0.8)\n",
    "\n",
    "plt.tight_layout()"
   ]
  },
  {
   "cell_type": "code",
   "execution_count": null,
   "metadata": {},
   "outputs": [],
   "source": [
    "sns.set(style=\"ticks\", palette=\"Set2\", color_codes=True)\n",
    "f, axes = plt.subplots(2, 2, figsize=(20, 10))\n",
    "                       \n",
    "t_score = sns.barplot(y='Tourism Score', x='City', data=rankings, ax=axes[0,0])\n",
    "t_score.set_xticklabels(t_score.get_xticklabels(), rotation=45)\n",
    "axes[0,0].grid(axis='y', alpha=0.8)\n",
    "\n",
    "so_score = sns.barplot(y='Sociability Score', x='City', data=rankings, ax=axes[0,1])\n",
    "so_score.set_xticklabels(so_score.get_xticklabels(), rotation=45)\n",
    "axes[0,1].grid(axis='y', alpha=0.8)\n",
    "\n",
    "r_score = sns.barplot(y='Relaxing Score', x='City', data=rankings, ax=axes[1,0])\n",
    "r_score.set_xticklabels(r_score.get_xticklabels(), rotation=45)\n",
    "axes[1,0].grid(axis='y', alpha=0.8)\n",
    "\n",
    "sp_score = sns.barplot(y='Sportiveness Score', x='City', data=rankings, ax=axes[1,1])\n",
    "sp_score.set_xticklabels(sp_score.get_xticklabels(), rotation=45)\n",
    "axes[1,1].grid(axis='y', alpha=0.8)\n",
    "\n",
    "plt.tight_layout()"
   ]
  },
  {
   "cell_type": "code",
   "execution_count": null,
   "metadata": {},
   "outputs": [],
   "source": [
    "g_score = sns.barplot(y='Global Score', x='City', data=rankings)\n",
    "g_score.set_xticklabels(g_score.get_xticklabels(), rotation=45)\n",
    "plt.grid(axis='y', alpha=0.8)\n",
    "plt.show()"
   ]
  },
  {
   "cell_type": "markdown",
   "metadata": {
    "button": false,
    "new_sheet": false,
    "run_control": {
     "read_only": false
    }
   },
   "source": [
    "#### Let's visualize all the cities we get the data from"
   ]
  },
  {
   "cell_type": "code",
   "execution_count": null,
   "metadata": {
    "button": false,
    "collapsed": false,
    "jupyter": {
     "outputs_hidden": false
    },
    "new_sheet": false,
    "run_control": {
     "read_only": false
    }
   },
   "outputs": [],
   "source": [
    "venues_map = folium.Map() # generate map centred around the Conrad Hotel\n",
    "\n",
    "for lat, lng, label in zip(latiude_list, longitude_list, addresses):\n",
    "    folium.features.CircleMarker(\n",
    "        [lat, lng],\n",
    "        radius=5,\n",
    "        color='blue',\n",
    "        popup=label,\n",
    "        fill = True,\n",
    "        fill_color='blue',\n",
    "        fill_opacity=0.6\n",
    "    ).add_to(venues_map)\n",
    "\n",
    "# display map\n",
    "venues_map"
   ]
  },
  {
   "cell_type": "code",
   "execution_count": null,
   "metadata": {},
   "outputs": [],
   "source": [
    "venues_map = folium.Map(location=[latitude, longitude], zoom_start=10) # generate map centred around the Conrad Hotel\n",
    "\n",
    "folium.features.CircleMarker(\n",
    "    [latitude, longitude],\n",
    "    radius=10,\n",
    "    color='red',\n",
    "    popup=address,\n",
    "    fill = True,\n",
    "    fill_color = 'red',\n",
    "    fill_opacity = 0.6\n",
    ").add_to(venues_map)\n",
    "\n",
    "for lat, lng, label in zip(Tourism.lat, Tourism.lng, Tourism.categories):\n",
    "    folium.features.CircleMarker(\n",
    "        [lat, lng],\n",
    "        radius=5,\n",
    "        color='blue',\n",
    "        popup=label,\n",
    "        fill = True,\n",
    "        fill_color='blue',\n",
    "        fill_opacity=0.6\n",
    "    ).add_to(venues_map)\n",
    "    \n",
    "for lat, lng, label in zip(Sociability.lat, Sociability.lng, Sociability.categories):\n",
    "    folium.features.CircleMarker(\n",
    "        [lat, lng],\n",
    "        radius=5,\n",
    "        color='yellow',\n",
    "        popup=label,\n",
    "        fill = True,\n",
    "        fill_color='yellow',\n",
    "        fill_opacity=0.6\n",
    "    ).add_to(venues_map)\n",
    "    \n",
    "for lat, lng, label in zip(Relaxing.lat, Relaxing.lng, Relaxing.categories):\n",
    "    folium.features.CircleMarker(\n",
    "        [lat, lng],\n",
    "        radius=5,\n",
    "        color='green',\n",
    "        popup=label,\n",
    "        fill = True,\n",
    "        fill_color='green',\n",
    "        fill_opacity=0.6\n",
    "    ).add_to(venues_map)\n",
    "    \n",
    "for lat, lng, label in zip(Sportiveness.lat, Sportiveness.lng, Sportiveness.categories):\n",
    "    folium.features.CircleMarker(\n",
    "        [lat, lng],\n",
    "        radius=5,\n",
    "        color='magenta',\n",
    "        popup=label,\n",
    "        fill = True,\n",
    "        fill_color='magenta',\n",
    "        fill_opacity=0.6\n",
    "    ).add_to(venues_map)\n",
    "\n",
    "# display map\n",
    "venues_map"
   ]
  },
  {
   "cell_type": "code",
   "execution_count": null,
   "metadata": {},
   "outputs": [],
   "source": []
  }
 ],
 "metadata": {
  "kernelspec": {
   "display_name": "Python",
   "language": "python",
   "name": "conda-env-python-py"
  },
  "language_info": {
   "codemirror_mode": {
    "name": "ipython",
    "version": 3
   },
   "file_extension": ".py",
   "mimetype": "text/x-python",
   "name": "python",
   "nbconvert_exporter": "python",
   "pygments_lexer": "ipython3",
   "version": "3.6.10"
  }
 },
 "nbformat": 4,
 "nbformat_minor": 4
}
